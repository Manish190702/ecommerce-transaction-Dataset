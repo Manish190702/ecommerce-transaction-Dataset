{
 "cells": [
  {
   "cell_type": "code",
   "execution_count": 1,
   "id": "49e1c0fb-1e3e-4546-8895-29358ca8f8a8",
   "metadata": {},
   "outputs": [
    {
     "name": "stdout",
     "output_type": "stream",
     "text": [
      "Lookalike CSV saved at: C:\\look\\looklike.csv\n"
     ]
    }
   ],
   "source": [
    "import pandas as pd\n",
    "from sklearn.metrics.pairwise import cosine_similarity\n",
    "from sklearn.preprocessing import StandardScaler\n",
    "\n",
    "# Load datasets\n",
    "transactions = pd.read_csv(r\"C:\\Users\\psrid\\Downloads\\Transactions.csv\")\n",
    "products = pd.read_csv(r\"C:\\Users\\psrid\\Downloads\\Products.csv\")\n",
    "customers = pd.read_csv(r\"C:\\Users\\psrid\\Downloads\\Customers.csv\")\n",
    "\n",
    "# Merge datasets\n",
    "data = pd.merge(transactions, products, on='ProductID', how='left')\n",
    "data = pd.merge(data, customers, on='CustomerID', how='left')\n",
    "\n",
    "# Feature engineering: Create customer profiles\n",
    "customer_profiles = data.groupby('CustomerID').agg({\n",
    "    'Category': lambda x: ' '.join(x),  # Concatenate categories\n",
    "    'TotalValue': 'sum',  # Total spending\n",
    "    'Region': 'first'  # Customer region\n",
    "}).reset_index()\n",
    "\n",
    "# Encode categorical features (Category, Region) for similarity calculation\n",
    "category_dummies = customer_profiles['Category'].str.get_dummies(sep=' ')\n",
    "region_dummies = pd.get_dummies(customer_profiles['Region'], prefix='Region', drop_first=True)\n",
    "\n",
    "# Combine encoded features\n",
    "encoded_profiles = pd.concat([customer_profiles[['CustomerID', 'TotalValue']], \n",
    "                              category_dummies, \n",
    "                              region_dummies], axis=1)\n",
    "\n",
    "# Scale numerical features\n",
    "scaler = StandardScaler()\n",
    "encoded_profiles[['TotalValue']] = scaler.fit_transform(encoded_profiles[['TotalValue']])\n",
    "\n",
    "# Check for non-numeric columns (if any) and convert them to numeric\n",
    "features = encoded_profiles.drop(columns=['CustomerID'])\n",
    "\n",
    "# Calculate similarity matrix\n",
    "similarity_matrix = cosine_similarity(features)\n",
    "\n",
    "# Extract top 3 similar customers for each target customer\n",
    "lookalike_data = {}\n",
    "for idx, customer_id in enumerate(encoded_profiles['CustomerID']):\n",
    "    similarity_scores = list(enumerate(similarity_matrix[idx]))\n",
    "    similarity_scores = sorted(similarity_scores, key=lambda x: x[1], reverse=True)\n",
    "    \n",
    "    # Top 3 similar customers (excluding self)\n",
    "    top_3 = [(encoded_profiles.iloc[i]['CustomerID'], score) for i, score in similarity_scores if i != idx][:3]\n",
    "    lookalike_data[customer_id] = top_3\n",
    "\n",
    "# Filter for first 20 customers (C0001 to C0020)\n",
    "filtered_data = {k: v for k, v in lookalike_data.items() if k in customers['CustomerID'][:20].values}\n",
    "\n",
    "# Create the output format for Lookalike.csv: Map<cust_id, List<cust_id, score>>\n",
    "lookalike_map = [{\n",
    "    'cust_id': cust_id,\n",
    "    'lookalikes': str([(lookalike[0], round(lookalike[1], 4)) for lookalike in lookalikes])\n",
    "} for cust_id, lookalikes in filtered_data.items()]\n",
    "\n",
    "# Save the updated Lookalike.csv\n",
    "lookalike_map_df = pd.DataFrame(lookalike_map)\n",
    "lookalike_map_csv_path = r\"C:\\look\\looklike.csv\"\n",
    "lookalike_map_df.to_csv(lookalike_map_csv_path, index=False)\n",
    "\n",
    "print(f\"Lookalike CSV saved at: {lookalike_map_csv_path}\")\n"
   ]
  },
  {
   "cell_type": "code",
   "execution_count": null,
   "id": "687f2d24-d8bb-49a5-8904-b172431a4444",
   "metadata": {},
   "outputs": [],
   "source": []
  }
 ],
 "metadata": {
  "kernelspec": {
   "display_name": "Python [conda env:base] *",
   "language": "python",
   "name": "conda-base-py"
  },
  "language_info": {
   "codemirror_mode": {
    "name": "ipython",
    "version": 3
   },
   "file_extension": ".py",
   "mimetype": "text/x-python",
   "name": "python",
   "nbconvert_exporter": "python",
   "pygments_lexer": "ipython3",
   "version": "3.12.7"
  }
 },
 "nbformat": 4,
 "nbformat_minor": 5
}
